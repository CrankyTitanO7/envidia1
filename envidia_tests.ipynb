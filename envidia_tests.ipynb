{
  "nbformat": 4,
  "nbformat_minor": 0,
  "metadata": {
    "colab": {
      "provenance": [],
      "toc_visible": true,
      "authorship_tag": "ABX9TyO8EE4CH0sZLIJac4P0vKBL",
      "include_colab_link": true
    },
    "kernelspec": {
      "name": "python3",
      "display_name": "Python 3"
    },
    "language_info": {
      "name": "python"
    }
  },
  "cells": [
    {
      "cell_type": "markdown",
      "metadata": {
        "id": "view-in-github",
        "colab_type": "text"
      },
      "source": [
        "<a href=\"https://colab.research.google.com/github/CrankyTitanO7/envidia1/blob/total/envidia_tests.ipynb\" target=\"_parent\"><img src=\"https://colab.research.google.com/assets/colab-badge.svg\" alt=\"Open In Colab\"/></a>"
      ]
    },
    {
      "cell_type": "markdown",
      "source": [
        "# gpt-generated ai use and training"
      ],
      "metadata": {
        "id": "5WPkCiSqb1Z2"
      }
    },
    {
      "cell_type": "markdown",
      "source": [
        "may need more computing power."
      ],
      "metadata": {
        "id": "cE-BUE93cHHH"
      }
    },
    {
      "cell_type": "markdown",
      "source": [
        "##usage script"
      ],
      "metadata": {
        "id": "0ZcK4p9TcJ5W"
      }
    },
    {
      "cell_type": "code",
      "source": [
        "from transformers import GPT2LMHeadModel, GPT2Tokenizer\n",
        "\n",
        "# Load the fine-tuned model and tokenizer\n",
        "model = GPT2LMHeadModel.from_pretrained('gpt2')\n",
        "tokenizer = GPT2Tokenizer.from_pretrained('gpt2')\n",
        "\n",
        "# Add the pad token if it doesn't exist\n",
        "if tokenizer.pad_token is None:\n",
        "    tokenizer.add_special_tokens({'pad_token': '[PAD]'})\n",
        "    model.resize_token_embeddings(len(tokenizer))  # Update model embeddings\n",
        "\n",
        "# Encode input text\n",
        "input_text = \"Once upon a time\"\n",
        "input_ids = tokenizer.encode(input_text, return_tensors='pt', padding=True) # Add padding\n",
        "\n",
        "# Create an attention mask (1 for actual tokens, 0 for padding tokens)\n",
        "attention_mask = input_ids.ne(tokenizer.pad_token_id).long()\n",
        "\n",
        "# Generate text\n",
        "output = model.generate(input_ids, attention_mask=attention_mask, max_length=100, num_return_sequences=1)\n",
        "\n",
        "# Decode the generated text\n",
        "generated_text = tokenizer.decode(output[0], skip_special_tokens=True)\n",
        "print(generated_text)"
      ],
      "metadata": {
        "id": "aBiCJN4fb5Ov"
      },
      "execution_count": null,
      "outputs": []
    },
    {
      "cell_type": "markdown",
      "source": [
        "##trainer script"
      ],
      "metadata": {
        "id": "J2zGGGCocNRA"
      }
    },
    {
      "cell_type": "code",
      "source": [
        "!pip install datasets transformers\n",
        "! pip install -U accelerate\n",
        "! pip install -U transformers\n",
        "\n",
        "if __name__ == \"__main__\":\n",
        "    from datasets import load_dataset\n",
        "    from transformers import GPT2Tokenizer, DataCollatorForLanguageModeling, Trainer, TrainingArguments, GPT2LMHeadModel\n",
        "\n",
        "    # Load a dataset\n",
        "    dataset = load_dataset('wikitext', 'wikitext-2-raw-v1', split='train')\n",
        "\n",
        "    # Initialize the tokenizer\n",
        "    tokenizer = GPT2Tokenizer.from_pretrained('gpt2')\n",
        "\n",
        "    tokenizer.pad_token = tokenizer.eos_token\n",
        "\n",
        "    # Function to tokenize the dataset\n",
        "    def tokenize_function(examples, tokenizer=tokenizer):\n",
        "        return tokenizer(examples['text'], padding='max_length', truncation=True, max_length=128)\n",
        "\n",
        "    # Tokenize the dataset\n",
        "    tokenized_dataset = dataset.map(tokenize_function, batched=True, num_proc=4, remove_columns=[\"text\"])\n",
        "\n",
        "    # Initialize the Data Collator\n",
        "    data_collator = DataCollatorForLanguageModeling(\n",
        "        tokenizer=tokenizer,\n",
        "        mlm=False,\n",
        "    )\n",
        "\n",
        "    # Initialize the model\n",
        "    model = GPT2LMHeadModel.from_pretrained('gpt2')\n",
        "\n",
        "    # Define training arguments\n",
        "    training_args = TrainingArguments(\n",
        "        output_dir='./results',\n",
        "        overwrite_output_dir=True,\n",
        "        num_train_epochs=3,\n",
        "        per_device_train_batch_size=2,\n",
        "        save_steps=10_000,\n",
        "        save_total_limit=2,\n",
        "        prediction_loss_only=True,\n",
        "    )\n",
        "\n",
        "    # Initialize the Trainer\n",
        "    trainer = Trainer(\n",
        "        model=model,\n",
        "        args=training_args,\n",
        "        data_collator=data_collator,\n",
        "        train_dataset=tokenized_dataset,\n",
        "    )\n",
        "\n",
        "    # Train the model\n",
        "    trainer.train()\n",
        "\n",
        "\n"
      ],
      "metadata": {
        "id": "ks7D6YhLb8gc"
      },
      "execution_count": null,
      "outputs": []
    }
  ]
}